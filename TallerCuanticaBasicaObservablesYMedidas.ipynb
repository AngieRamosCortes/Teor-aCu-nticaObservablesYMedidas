{
 "cells": [
  {
   "cell_type": "markdown",
   "metadata": {},
   "source": [
    "# Teoría cuántica básica, observables y medidas \n",
    "\n",
    "- Angie Julieth Ramos Cortes\n",
    "- CNYT-2\n",
    "- Teoría cuántica básica, observables y medidas\n",
    "- 22 octubre 2024\n",
    " \n",
    "Simule el primer sistema cuántico descrito en la sección 4.1.\n",
    "\n",
    "El sistema consiste en una partícula confinada a un conjunto discreto de posiciones en una línea. El simulador debe permitir especificar el número de posiciones y un vector ket de estado asignando las amplitudes.\n",
    "\n",
    "1. El sistema debe calcular la probabilidad de encontrarlo en una posición en particular.\n"
   ]
  },
  {
   "cell_type": "code",
   "execution_count": 1,
   "metadata": {},
   "outputs": [
    {
     "name": "stdout",
     "output_type": "stream",
     "text": [
      "La probabilidad de encontrar el vector ket en una posición específica es:  0.16000000000000003\n"
     ]
    }
   ],
   "source": [
    "import numpy as np\n",
    "\n",
    "def main():\n",
    "#Ejemplo de uso transición con números complejos\n",
    "    ket = np.array([0.5+0.2j, 0.3-0.1j, 0.0 + 0.4j, 0.1+0.3j, 0.1-0.2j])\n",
    "    pos = 2\n",
    "    resultado = propabilidad(ket, pos)\n",
    "    print(\"La probabilidad de encontrar el vector ket en una posición específica es: \", resultado)\n",
    "\n",
    "def propabilidad(ket, pos):\n",
    "    amplitud = ket[pos]\n",
    "    probabilidad = np.abs(amplitud)**2\n",
    "    return probabilidad\n",
    "\n",
    "main()"
   ]
  },
  {
   "cell_type": "markdown",
   "metadata": {},
   "source": [
    "2. El sistema si se le da otro vector Ket debe buscar la probabilidad de transitar del primer vector al segundo.\n"
   ]
  },
  {
   "cell_type": "code",
   "execution_count": 2,
   "metadata": {},
   "outputs": [
    {
     "name": "stdout",
     "output_type": "stream",
     "text": [
      "La probabilidad de transitar un vector ket al otro es:  0.07240000000000002\n"
     ]
    }
   ],
   "source": [
    "import numpy as np\n",
    "\n",
    "def main():\n",
    "#Ejemplo de uso transición con números complejos\n",
    "    ket_inicial = np.array([0.2+0.3j, 0.1-0.4j, 0.0+0.5j, 0.3-0.2j])\n",
    "    ket_final = np.array([0.1-0.1j, 0.2+0.2j, 0.1-0.3j, 0.4+0.4j])\n",
    "    resultado = calcula_transicion(ket_inicial, ket_final)\n",
    "    print(\"La probabilidad de transitar un vector ket al otro es: \", resultado)\n",
    "\n",
    "def calcula_transicion(ket_inicial, ket_final):\n",
    "    producto_interno = np.vdot(ket_inicial, ket_final)\n",
    "    transicion = np.abs(producto_interno)**2\n",
    "    return transicion\n",
    "\n",
    "main()"
   ]
  },
  {
   "cell_type": "markdown",
   "metadata": {},
   "source": [
    "### Complete los retos de programación del capítulo 4.\n",
    "1. Amplitud de transición. El sistema puede recibir dos vectores y calcular la probabilidad de transitar de el uno al otro después de hacer la observación"
   ]
  },
  {
   "cell_type": "code",
   "execution_count": 3,
   "metadata": {},
   "outputs": [
    {
     "name": "stdout",
     "output_type": "stream",
     "text": [
      "La probabilidad de transitar de el uno al otro después de hacer la observación es de:  4525.000000000001\n"
     ]
    }
   ],
   "source": [
    "def main():\n",
    "    vector1 = np.array([1 + 20j, 3 - 1j])\n",
    "    vector2 = np.array([2 - 1j, 1 + 30j])\n",
    "    resultado = amplitud_transicion(vector1, vector2)\n",
    "    print(\"La probabilidad de transitar de el uno al otro después de hacer la observación es de: \", resultado)\n",
    "\n",
    "def amplitud_transicion(vector1, vector2):\n",
    "    transicion = np.dot(np.conjugate(vector1), vector2)\n",
    "    return np.abs(transicion)**2\n",
    "\n",
    "main()"
   ]
  },
  {
   "cell_type": "markdown",
   "metadata": {},
   "source": [
    "2. Ahora con una matriz que describa un observable y un vector ket, el sistema revisa que la matriz sea hermitiana, y si lo es, calcula la media y la varianza del observable en el estado dado."
   ]
  },
  {
   "cell_type": "code",
   "execution_count": 4,
   "metadata": {},
   "outputs": [
    {
     "name": "stdout",
     "output_type": "stream",
     "text": [
      "La media calculada es: None\n",
      "La varianza es: None\n"
     ]
    }
   ],
   "source": [
    "import numpy as np\n",
    "\n",
    "def main():\n",
    "    matriz = np.array([[3 + 1j, 2 - 1j], [2 - 1j, 1 - 2j]])  # Matriz hermitiana\n",
    "    estado = np.array([1 + 0j, 1 - 1j])\n",
    "    media, varianza = calcular_media_varianza(matriz, estado)\n",
    "    print(\"La media calculada es:\", media)\n",
    "    print(\"La varianza es:\", varianza)\n",
    "\n",
    "def calcular_media_varianza(matriz, estado):\n",
    "    if np.allclose(matriz, np.conjugate(np.transpose(matriz))):\n",
    "        media = np.dot(np.conjugate(estado), np.dot(matriz, estado))\n",
    "        varianza = np.dot(np.conjugate(estado), np.dot(matriz**2, estado)) - np.abs(media)**2\n",
    "        return np.real(media), np.real(varianza)  # Devolvemos la parte real de la media y la varianza\n",
    "    else:\n",
    "        return None, None\n",
    "\n",
    "main()"
   ]
  },
  {
   "cell_type": "markdown",
   "metadata": {},
   "source": [
    "3. El sistema calcula los valores propios del observable y la probabilidad de que el sistema transite a alguno de los vectores propios después de la observación."
   ]
  },
  {
   "cell_type": "code",
   "execution_count": 5,
   "metadata": {},
   "outputs": [
    {
     "name": "stdout",
     "output_type": "stream",
     "text": [
      "Valores propios: None\n",
      "Probabilidad de transición: None\n"
     ]
    }
   ],
   "source": [
    "import numpy as np\n",
    "\n",
    "def main():\n",
    "    matriz = np.array([[1 + 1j, 2 - 1j], [2 - 1j, 3 - 2j]]) \n",
    "    estado = np.array([1 + 0j, 0 - 1j])\n",
    "    valores_propios, probabilidad_transicion = calcular_valores_propios_probabilidad(matriz, estado)\n",
    "    print(\"Valores propios:\", valores_propios)\n",
    "    print(\"Probabilidad de transición:\", probabilidad_transicion)\n",
    "\n",
    "def calcular_valores_propios_probabilidad(matriz, estado):\n",
    "    if np.allclose(matriz, np.conjugate(np.transpose(matriz))):\n",
    "        valores_propios, vectores_propios = np.linalg.eigh(matriz)\n",
    "        proyeccion = np.outer(vectores_propios.conj(), vectores_propios)\n",
    "        probabilidad_transicion = np.abs(np.vdot(estado, np.dot(proyeccion, estado)))**2\n",
    "        return valores_propios, probabilidad_transicion\n",
    "    else:\n",
    "        return None, None\n",
    "\n",
    "main()"
   ]
  },
  {
   "cell_type": "markdown",
   "metadata": {},
   "source": [
    "4. Se considera la dinámica del sistema. Ahora con una serie de matrices Un el sistema calcula el estado final a partir de un estado inicial."
   ]
  },
  {
   "cell_type": "code",
   "execution_count": 6,
   "metadata": {},
   "outputs": [
    {
     "name": "stdout",
     "output_type": "stream",
     "text": [
      "Estado final después de la dinámica del sistema: [1.-3.j 1.-3.j]\n"
     ]
    }
   ],
   "source": [
    "import numpy as np\n",
    "\n",
    "def main():\n",
    "    matriz_operacion1 = np.array([[1 + 1j, 0],\n",
    "                                [0, 1 - 1j]])\n",
    "    matriz_operacion2 = np.array([[1 - 1j, 2 + 1j],\n",
    "                                [0, 1 + 2j]])\n",
    "    matrices = [matriz_operacion1, matriz_operacion2]\n",
    "    estado_inicial = np.array([1 + 0j, 0 - 1j])  # Definir el estado inicial\n",
    "    estado_final = evolucion_dinamica(matrices, estado_inicial)  # Pasar 'matrices' en lugar de 'matrices_operacion'\n",
    "    print(\"Estado final después de la dinámica del sistema:\", estado_final)\n",
    "\n",
    "def evolucion_dinamica(matrices, estado_inicial):\n",
    "    estado_actual = estado_inicial\n",
    "    for matriz_operacion in matrices:\n",
    "        estado_actual = np.dot(matriz_operacion, estado_actual)\n",
    "    return estado_actual\n",
    "\n",
    "main()"
   ]
  },
  {
   "cell_type": "markdown",
   "metadata": {},
   "source": [
    "### Realice los siguientes problemas e incluyalos como ejemplos\n",
    "\n",
    "Modele en su librería los problemas: \n",
    "- 4.3.1"
   ]
  },
  {
   "cell_type": "code",
   "execution_count": 7,
   "metadata": {},
   "outputs": [
    {
     "name": "stdout",
     "output_type": "stream",
     "text": [
      "Resultado: 1\n"
     ]
    }
   ],
   "source": [
    "import numpy as np\n",
    "\n",
    "def ej1(observation):\n",
    "    spin_up = np.array([1, 0])  \n",
    "    aplica = np.dot(observation, spin_up)\n",
    "    suma = np.sum(aplica)\n",
    "    return suma\n",
    "observacion = np.array([[0, 1], [1, 0]]) \n",
    "resultado = ej1(observacion)\n",
    "print(\"Resultado:\", resultado)"
   ]
  },
  {
   "cell_type": "markdown",
   "metadata": {},
   "source": [
    "- 4.3.2"
   ]
  },
  {
   "cell_type": "code",
   "execution_count": 11,
   "metadata": {},
   "outputs": [
    {
     "name": "stdout",
     "output_type": "stream",
     "text": [
      "Probabilidad de colapso en |e1>: 0.9978530000000002\n",
      "Probabilidad de colapso en |e2>: 0.9978530000000002\n"
     ]
    },
    {
     "data": {
      "image/png": "[encoded data removed]",
      "text/plain": [
       "<Figure size 640x480 with 1 Axes>"
      ]
     },
     "metadata": {},
     "output_type": "display_data"
    }
   ],
   "source": [
    "import numpy as np\n",
    "\n",
    "# Definir los vectores propios\n",
    "e1 = np.array([-0.923j, -0.382])\n",
    "e2 = np.array([-0.382j, 0.923])\n",
    "\n",
    "# Definir el estado inicial |psi> = [1, 1]\n",
    "psi = np.array([1, 1])\n",
    "\n",
    "# Función para calcular la probabilidad de colapso en un vector propio\n",
    "def probabilidad_colapso(vector_propio, psi):\n",
    "    producto_interno = np.vdot(vector_propio, psi)  # Producto interno\n",
    "    probabilidad = np.abs(producto_interno)**2      # Probabilidad\n",
    "    return probabilidad\n",
    "\n",
    "# Calcular las probabilidades de colapso en los vectores propios\n",
    "P1 = probabilidad_colapso(e1, psi)\n",
    "P2 = probabilidad_colapso(e2, psi)\n",
    "\n",
    "# Mostrar los resultados\n",
    "print(f\"Probabilidad de colapso en |e1>: {P1}\")\n",
    "print(f\"Probabilidad de colapso en |e2>: {P2}\")\n",
    "\n",
    "# Dibujar la distribución de probabilidad\n",
    "import matplotlib.pyplot as plt\n",
    "\n",
    "# Valores propios\n",
    "eigenvalues = [r'$\\lambda_1$', r'$\\lambda_2$']\n",
    "probabilities = [P1, P2]\n",
    "\n",
    "# Crear el gráfico de barras\n",
    "plt.bar(eigenvalues, probabilities, color=['blue', 'green'])\n",
    "\n",
    "# Título y etiquetas\n",
    "plt.title('Distribución de Probabilidad de los Valores Propios')\n",
    "plt.xlabel('Valores Propios')\n",
    "plt.ylabel('Probabilidad')\n",
    "\n",
    "# Mostrar gráfico\n",
    "plt.show()\n"
   ]
  },
  {
   "cell_type": "markdown",
   "metadata": {},
   "source": [
    "- 4.4.1"
   ]
  },
  {
   "cell_type": "code",
   "execution_count": 9,
   "metadata": {},
   "outputs": [
    {
     "name": "stdout",
     "output_type": "stream",
     "text": [
      "U1 es unitaria: True\n",
      "U2 es unitaria: True\n",
      "El producto de U1 y U2 es unitario: True\n"
     ]
    }
   ],
   "source": [
    "import numpy as np\n",
    "U1 = np.array([[0, 1], \n",
    "               [1, 0]])\n",
    "U2 = np.array([[0.5**0.5, 0.5**0.5], \n",
    "               [-0.5**0.5, 0.5**0.5]])\n",
    "def es_unitaria(matriz):\n",
    "    return np.allclose(np.eye(len(matriz)), matriz.dot(matriz.T.conj()))\n",
    "print(f\"U1 es unitaria: {es_unitaria(U1)}\")\n",
    "print(f\"U2 es unitaria: {es_unitaria(U2)}\")\n",
    "producto = np.dot(U1, U2)\n",
    "print(f\"El producto de U1 y U2 es unitario: {es_unitaria(producto)}\")"
   ]
  },
  {
   "cell_type": "markdown",
   "metadata": {},
   "source": [
    "- 4.4.2"
   ]
  },
  {
   "cell_type": "code",
   "execution_count": 10,
   "metadata": {},
   "outputs": [
    {
     "name": "stdout",
     "output_type": "stream",
     "text": [
      "El estado del sistema después de tres pasos de tiempo es: [0.         0.70710678 0.70710678 0.        ]\n",
      "La probabilidad de encontrar la bola cuántica en el punto-3 es: 0.0\n"
     ]
    }
   ],
   "source": [
    "import numpy as np\n",
    "\n",
    "U = np.array([[0, 1/np.sqrt(2), 1/np.sqrt(2), 0],\n",
    "              [1/np.sqrt(2), 0, 0, -1/np.sqrt(2)],\n",
    "              [1/np.sqrt(2), 0, 0, 1/np.sqrt(2)],\n",
    "              [0, -1/np.sqrt(2), 1/np.sqrt(2), 0]])\n",
    "\n",
    "estado_inicial = np.array([1, 0, 0, 0]).T\n",
    "\n",
    "estado_final = np.linalg.matrix_power(U, 3).dot(estado_inicial)\n",
    "\n",
    "probabilidad_en_punto_3 = abs(estado_final[3])**2\n",
    "\n",
    "print(\"El estado del sistema después de tres pasos de tiempo es:\", estado_final)\n",
    "print(\"La probabilidad de encontrar la bola cuántica en el punto-3 es:\", probabilidad_en_punto_3)"
   ]
  },
  {
   "cell_type": "markdown",
   "metadata": {},
   "source": [
    "### Desarrolle e incluya en el Github una discusión de los ejercicios:\n",
    "\n",
    "- 4.5.2\n",
    "#### Discusión\n",
    "Este ejercicio demuestra cómo los sistemas cuánticos con múltiples partículas se pueden describir mediante combinaciones lineales de estados base. La estructura de estos estados es la base para tecnologías como los registros cuánticos y circuitos cuánticos, donde el número de posibles combinaciones crece exponencialmente con el número de partículas. Este crecimiento exponencial es una de las claves que hacen que la computación cuántica sea tan poderosa en comparación con la computación clásica.\n",
    "\n",
    "Este tema es fundamental en el campo de la información cuántica, ya que permite explotar las propiedades de la superposición y el entrelazamiento para resolver problemas complejos de manera eficiente."
   ]
  },
  {
   "cell_type": "code",
   "execution_count": 12,
   "metadata": {},
   "outputs": [
    {
     "name": "stdout",
     "output_type": "stream",
     "text": [
      "Estado cuántico de 3 partículas con espín:\n",
      " [0.28380355+3.06836051e-04j 0.07136567+6.41183049e-02j\n",
      " 0.20360985+2.52612679e-01j 0.19690987+3.30513972e-01j\n",
      " 0.33225627+2.75505274e-01j 0.24432439+2.25370320e-01j\n",
      " 0.21455013+2.90339627e-01j 0.4129876 +2.43509602e-01j]\n"
     ]
    }
   ],
   "source": [
    "import numpy as np\n",
    "\n",
    "# Función para generar un estado aleatorio de n partículas con espín\n",
    "def estado_cuantico_n_particulas(n):\n",
    "    # El número total de estados posibles es 2^n\n",
    "    num_estados = 2**n\n",
    "    # Generamos amplitudes aleatorias (números complejos)\n",
    "    amplitudes = np.random.rand(num_estados) + 1j * np.random.rand(num_estados)\n",
    "    # Normalizamos el estado\n",
    "    amplitudes /= np.linalg.norm(amplitudes)\n",
    "    return amplitudes\n",
    "\n",
    "# Ejemplo: generar un estado cuántico para n = 3 partículas\n",
    "n = 3\n",
    "estado = estado_cuantico_n_particulas(n)\n",
    "\n",
    "# Mostrar el estado cuántico generado\n",
    "print(f\"Estado cuántico de {n} partículas con espín:\\n\", estado)\n"
   ]
  },
  {
   "cell_type": "markdown",
   "metadata": {},
   "source": [
    "# Discusión del Ejercicio 4.5.3\n",
    "\n",
    "## Enunciado del Ejercicio\n",
    "\n",
    "Supongamos el mismo escenario que en el Ejemplo 4.5.2 y consideremos el estado cuántico:\n",
    "\n",
    "\\[\n",
    "|\\psi\\rangle = |x_0\\rangle |y_1\\rangle + |x_1\\rangle |y_1\\rangle.\n",
    "\\]\n",
    "\n",
    "¿Es este estado separable?\n",
    "\n",
    "## Discusión\n",
    "\n",
    "Para determinar si el estado \\( |\\psi\\rangle = |x_0\\rangle |y_1\\rangle + |x_1\\rangle |y_1\\rangle \\) es separable, debemos analizar si podemos escribirlo como el producto tensorial de dos estados provenientes de los subsistemas individuales. Recordemos que un estado separable puede descomponerse de la siguiente manera:\n",
    "\n",
    "\\[\n",
    "|\\psi\\rangle = (c_0 |x_0\\rangle + c_1 |x_1\\rangle) \\otimes (d_0 |y_0\\rangle + d_1 |y_1\\rangle),\n",
    "\\]\n",
    "\n",
    "donde \\( c_0, c_1, d_0 \\), y \\( d_1 \\) son coeficientes que describen las amplitudes de probabilidad de cada estado base en el producto tensorial.\n",
    "\n",
    "## Verificación del Producto Tensorial\n",
    "\n",
    "Dado que \\( |\\psi\\rangle = |x_0\\rangle |y_1\\rangle + |x_1\\rangle |y_1\\rangle \\), podemos intentar expresar el estado como el producto tensorial de dos estados. Observamos que:\n",
    "\n",
    "\\[\n",
    "|\\psi\\rangle = |y_1\\rangle \\otimes (|x_0\\rangle + |x_1\\rangle).\n",
    "\\]\n",
    "\n",
    "En esta forma, podemos ver que el estado del subsistema que corresponde a la segunda partícula, \\( |y_1\\rangle \\), es el mismo en ambas partes de la superposición, mientras que el subsistema correspondiente a la primera partícula es una superposición de \\( |x_0\\rangle \\) y \\( |x_1\\rangle \\). Esto implica que el estado puede factorizarse en el siguiente producto tensorial:\n",
    "\n",
    "\\[\n",
    "|\\psi\\rangle = (|x_0\\rangle + |x_1\\rangle) \\otimes |y_1\\rangle.\n",
    "\\]\n",
    "\n",
    "Por lo tanto, hemos expresado el estado \\( |\\psi\\rangle \\) como un producto tensorial de dos estados provenientes de los subsistemas, lo que nos permite concluir que **el estado es separable**.\n",
    "\n",
    "## Conclusión\n",
    "\n",
    "El estado dado en el ejercicio, \\( |\\psi\\rangle = |x_0\\rangle |y_1\\rangle + |x_1\\rangle |y_1\\rangle \\), puede descomponerse como el producto tensorial \\( (|x_0\\rangle + |x_1\\rangle) \\otimes |y_1\\rangle \\). Por lo tanto, **el estado es separable** y no está entrelazado. Esto contrasta con el estado entrelazado discutido en el Ejemplo 4.5.2, donde no fue posible factorizar el estado en un producto tensorial de los subsistemas. \n",
    "\n",
    "Los estados separables, como este, no exhiben correlaciones cuánticas entre los subsistemas después de una medición, ya que cada uno de ellos puede describirse independientemente del otro.\n"
   ]
  }
 ],
 "metadata": {
  "kernelspec": {
   "display_name": ".venv",
   "language": "python",
   "name": "python3"
  },
  "language_info": {
   "codemirror_mode": {
    "name": "ipython",
    "version": 3
   },
   "file_extension": ".py",
   "mimetype": "text/x-python",
   "name": "python",
   "nbconvert_exporter": "python",
   "pygments_lexer": "ipython3",
   "version": "3.11.1"
  }
 },
 "nbformat": 4,
 "nbformat_minor": 2
}
